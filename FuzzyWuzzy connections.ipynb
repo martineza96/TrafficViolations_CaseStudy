{
 "cells": [
  {
   "cell_type": "code",
   "execution_count": 2,
   "metadata": {},
   "outputs": [
    {
     "name": "stderr",
     "output_type": "stream",
     "text": [
      "/home/mitch/anaconda3/lib/python3.7/site-packages/fuzzywuzzy/fuzz.py:11: UserWarning: Using slow pure-python SequenceMatcher. Install python-Levenshtein to remove this warning\n",
      "  warnings.warn('Using slow pure-python SequenceMatcher. Install python-Levenshtein to remove this warning')\n"
     ]
    }
   ],
   "source": [
    "import numpy as np\n",
    "import pandas as pd\n",
    "import matplotlib as mlt\n",
    "import matplotlib.pyplot as plt\n",
    "import difflib\n",
    "from fuzzywuzzy import fuzz ## produces an error code could not install python-Levenshtein\n",
    "from fuzzywuzzy import process"
   ]
  },
  {
   "cell_type": "code",
   "execution_count": 3,
   "metadata": {},
   "outputs": [],
   "source": [
    "df=pd.DataFrame()\n",
    "#about to be shamelessly stolen from knoema.com"
   ]
  },
  {
   "cell_type": "markdown",
   "metadata": {},
   "source": [
    "## Market Share"
   ]
  },
  {
   "cell_type": "code",
   "execution_count": 4,
   "metadata": {},
   "outputs": [
    {
     "data": {
      "text/html": [
       "<div>\n",
       "<style scoped>\n",
       "    .dataframe tbody tr th:only-of-type {\n",
       "        vertical-align: middle;\n",
       "    }\n",
       "\n",
       "    .dataframe tbody tr th {\n",
       "        vertical-align: top;\n",
       "    }\n",
       "\n",
       "    .dataframe thead th {\n",
       "        text-align: right;\n",
       "    }\n",
       "</style>\n",
       "<table border=\"1\" class=\"dataframe\">\n",
       "  <thead>\n",
       "    <tr style=\"text-align: right;\">\n",
       "      <th></th>\n",
       "      <th>Manufacturers</th>\n",
       "      <th>2012</th>\n",
       "    </tr>\n",
       "  </thead>\n",
       "  <tbody>\n",
       "    <tr>\n",
       "      <td>0</td>\n",
       "      <td>GM</td>\n",
       "      <td>17.56</td>\n",
       "    </tr>\n",
       "    <tr>\n",
       "      <td>1</td>\n",
       "      <td>FORD</td>\n",
       "      <td>15.22</td>\n",
       "    </tr>\n",
       "    <tr>\n",
       "      <td>2</td>\n",
       "      <td>TOYOTA</td>\n",
       "      <td>14.13</td>\n",
       "    </tr>\n",
       "    <tr>\n",
       "      <td>3</td>\n",
       "      <td>FCA</td>\n",
       "      <td>11.12</td>\n",
       "    </tr>\n",
       "    <tr>\n",
       "      <td>4</td>\n",
       "      <td>HONDA</td>\n",
       "      <td>9.63</td>\n",
       "    </tr>\n",
       "    <tr>\n",
       "      <td>5</td>\n",
       "      <td>NISSAN</td>\n",
       "      <td>7.72</td>\n",
       "    </tr>\n",
       "    <tr>\n",
       "      <td>6</td>\n",
       "      <td>HYUNDAI</td>\n",
       "      <td>4.76</td>\n",
       "    </tr>\n",
       "    <tr>\n",
       "      <td>7</td>\n",
       "      <td>VOLKSWAGEN</td>\n",
       "      <td>3.91</td>\n",
       "    </tr>\n",
       "    <tr>\n",
       "      <td>8</td>\n",
       "      <td>KIA</td>\n",
       "      <td>3.77</td>\n",
       "    </tr>\n",
       "    <tr>\n",
       "      <td>9</td>\n",
       "      <td>DAIMLER</td>\n",
       "      <td>2.76</td>\n",
       "    </tr>\n",
       "    <tr>\n",
       "      <td>10</td>\n",
       "      <td>BMW</td>\n",
       "      <td>2.35</td>\n",
       "    </tr>\n",
       "    <tr>\n",
       "      <td>11</td>\n",
       "      <td>SUBARU</td>\n",
       "      <td>2.28</td>\n",
       "    </tr>\n",
       "    <tr>\n",
       "      <td>12</td>\n",
       "      <td>MAZDA</td>\n",
       "      <td>1.87</td>\n",
       "    </tr>\n",
       "    <tr>\n",
       "      <td>13</td>\n",
       "      <td>VOLVO</td>\n",
       "      <td>0.46</td>\n",
       "    </tr>\n",
       "    <tr>\n",
       "      <td>14</td>\n",
       "      <td>INTERNATIONAL</td>\n",
       "      <td>0.46</td>\n",
       "    </tr>\n",
       "    <tr>\n",
       "      <td>15</td>\n",
       "      <td>PACCAR</td>\n",
       "      <td>0.43</td>\n",
       "    </tr>\n",
       "    <tr>\n",
       "      <td>16</td>\n",
       "      <td>MITSUBISHI</td>\n",
       "      <td>0.39</td>\n",
       "    </tr>\n",
       "    <tr>\n",
       "      <td>17</td>\n",
       "      <td>LAND_ROVER</td>\n",
       "      <td>0.30</td>\n",
       "    </tr>\n",
       "    <tr>\n",
       "      <td>18</td>\n",
       "      <td>VOLVO_TRUCK</td>\n",
       "      <td>0.27</td>\n",
       "    </tr>\n",
       "    <tr>\n",
       "      <td>19</td>\n",
       "      <td>PORSCHE</td>\n",
       "      <td>0.24</td>\n",
       "    </tr>\n",
       "  </tbody>\n",
       "</table>\n",
       "</div>"
      ],
      "text/plain": [
       "    Manufacturers   2012\n",
       "0              GM  17.56\n",
       "1            FORD  15.22\n",
       "2          TOYOTA  14.13\n",
       "3             FCA  11.12\n",
       "4           HONDA   9.63\n",
       "5          NISSAN   7.72\n",
       "6         HYUNDAI   4.76\n",
       "7      VOLKSWAGEN   3.91\n",
       "8             KIA   3.77\n",
       "9         DAIMLER   2.76\n",
       "10            BMW   2.35\n",
       "11         SUBARU   2.28\n",
       "12          MAZDA   1.87\n",
       "13          VOLVO   0.46\n",
       "14  INTERNATIONAL   0.46\n",
       "15         PACCAR   0.43\n",
       "16     MITSUBISHI   0.39\n",
       "17     LAND_ROVER   0.30\n",
       "18    VOLVO_TRUCK   0.27\n",
       "19        PORSCHE   0.24"
      ]
     },
     "execution_count": 4,
     "metadata": {},
     "output_type": "execute_result"
    }
   ],
   "source": [
    "df['Manufacturers']=pd.Series(['GM','FORD','TOYOTA','FCA','HONDA','NISSAN','HYUNDAI','VOLKSWAGEN','KIA','DAIMLER','BMW','SUBARU','MAZDA','VOLVO','INTERNATIONAL','PACCAR','MITSUBISHI','LAND_ROVER','VOLVO_TRUCK','PORSCHE'])\n",
    "df['2012']=pd.Series([17.56,15.22,14.13,11.12,9.63,7.72,4.76,3.91,3.77,2.76,2.35,2.28,1.87,0.46,0.46,0.43,0.39,0.30,0.27,0.24])\n",
    "df"
   ]
  },
  {
   "cell_type": "code",
   "execution_count": 36,
   "metadata": {},
   "outputs": [],
   "source": [
    "violations=pd.read_csv('data/df_focus.csv',low_memory=False)"
   ]
  },
  {
   "cell_type": "code",
   "execution_count": 37,
   "metadata": {},
   "outputs": [
    {
     "data": {
      "text/plain": [
       "Index(['Date Of Stop', 'Time Of Stop', 'Agency', 'SubAgency', 'Description',\n",
       "       'Location', 'Latitude', 'Longitude', 'Accident', 'Belts',\n",
       "       'Personal Injury', 'Property Damage', 'Fatal', 'Commercial License',\n",
       "       'HAZMAT', 'Commercial Vehicle', 'Alcohol', 'Work Zone', 'State',\n",
       "       'VehicleType', 'Year', 'Make', 'Model', 'Color', 'Violation Type',\n",
       "       'Charge', 'Article', 'Contributed To Accident', 'Race', 'Gender',\n",
       "       'Driver City', 'Driver State', 'DL State', 'Arrest Type', 'Geolocation',\n",
       "       'datetime'],\n",
       "      dtype='object')"
      ]
     },
     "execution_count": 37,
     "metadata": {},
     "output_type": "execute_result"
    }
   ],
   "source": [
    "violations.columns"
   ]
  },
  {
   "cell_type": "code",
   "execution_count": 38,
   "metadata": {},
   "outputs": [],
   "source": [
    "violations=violations[['Date Of Stop', 'Time Of Stop', 'Latitude', 'Longitude','Year', 'Make', 'Model', 'Color','Race', 'Gender','Geolocation','datetime']]"
   ]
  },
  {
   "cell_type": "code",
   "execution_count": 39,
   "metadata": {},
   "outputs": [
    {
     "data": {
      "text/plain": [
       "Index(['Date Of Stop', 'Time Of Stop', 'Latitude', 'Longitude', 'Year', 'Make',\n",
       "       'Model', 'Color', 'Race', 'Gender', 'Geolocation', 'datetime'],\n",
       "      dtype='object')"
      ]
     },
     "execution_count": 39,
     "metadata": {},
     "output_type": "execute_result"
    }
   ],
   "source": [
    "violations.columns"
   ]
  },
  {
   "cell_type": "code",
   "execution_count": 13,
   "metadata": {},
   "outputs": [
    {
     "data": {
      "text/plain": [
       "array(['FORD', 'TOYOTA', 'HONDA', 'DODG', 'HYUNDAI', 'DODGE', 'CADI',\n",
       "       'CHEVROLET', 'AUDI', 'TOYT', 'SATURN', 'LEXUS', 'ACUR', 'NONE',\n",
       "       'MERCEDEZ', 'BUICK', 'CHEV', 'KAWASAKI', 'ACURA', 'JEEP',\n",
       "       'MITSUBISHI', 'LINCOLN', 'HOND', 'CHRY', 'INFI', 'SUBARU', 'GMC',\n",
       "       'MAZDA', 'BMW', 'NISS', 'PONT', 'TOYOT', 'CHRYSLER', 'OLDS',\n",
       "       'NISSAN', 'LNDR', 'CHEVY', 'LINC', 'LANDROVER', 'TOY', 'INFINITI',\n",
       "       'MERCURY', 'SAAB', 'HYUN', 'KIA', 'HUMMER', 'MERCEDES', 'MERC',\n",
       "       'MERZ', 'SATU', 'SCION', 'BUIC', 'VOLK', 'RANGE ROVER', 'MAZD',\n",
       "       'MITS', 'SUBA', 'PLYMOUTH', 'CHEVEROLET', 'VOLKSWAGON', 'INFINITY',\n",
       "       'VOLKS', 'OLDSMOBILE', 'PONTIAC', 'HYUNDIA', 'SCIO', 'VW',\n",
       "       'JAGUAR', 'CADILLAC', 'SUZI', 'TOYO', 'FREIGHTLINER', 'VOLVO',\n",
       "       'STRN', 'VOLKSWAGEN', 'MINI', 'CHEVORLET', 'LEXS', 'LEXU', 'VOLV',\n",
       "       'PORS', 'ISUZU', 'NISSIAN', 'LAND ROVER', 'SUZUKI', 'INTL',\n",
       "       'CADILAC', 'SUB', 'MACK', 'ISUZ', 'ISU', 'HINO', 'GEO', 'HYUND',\n",
       "       'CHRYSTLER', 'MERCEDES BENZ', 'LEX', 'TOYTA', 'INTERNATIONAL',\n",
       "       'RAM', 'FIAT', 'CHRYS', 'MITZ', 'SUZU', 'FRHT', 'PORSCHE', 'JAGU',\n",
       "       'TAOTAO', 'YAMAHA', 'PLYM'], dtype=object)"
      ]
     },
     "execution_count": 13,
     "metadata": {},
     "output_type": "execute_result"
    }
   ],
   "source": [
    "violations.Make.unique()"
   ]
  },
  {
   "cell_type": "code",
   "execution_count": 18,
   "metadata": {},
   "outputs": [],
   "source": [
    "fecon=pd.read_csv('data/fecon.csv',low_memory=False)"
   ]
  },
  {
   "cell_type": "code",
   "execution_count": 68,
   "metadata": {},
   "outputs": [
    {
     "data": {
      "text/plain": [
       "33"
      ]
     },
     "execution_count": 68,
     "metadata": {},
     "output_type": "execute_result"
    }
   ],
   "source": [
    "choices=['Audi','BMW','General Motors', 'GM', 'GMC','Honda','Toyota','MAZDA','Mercedes','Nissan','Porsche','Chrysler','Jaguar','Mitsubishi','Ford','Hyundai','Volkswagen', 'VW','Volvo','Kia','Mitsubishi','Saab','Subaru','Suzuki','Land Rover','Dodge','Chevrolet','Lexus','Cadillac','Saturn','Acura','Jeep','Buick']\n",
    "len(choices)"
   ]
  },
  {
   "cell_type": "markdown",
   "metadata": {},
   "source": [
    "The below works and is a cool piece of code so I left it in, but it is very slow. Left it running overnight."
   ]
  },
  {
   "cell_type": "code",
   "execution_count": 22,
   "metadata": {},
   "outputs": [],
   "source": [
    "#ORDER OF OPERATIONS MATTERS. This code is going though all 1.3million lines of the DataFrame and running\n",
    "#a new comparison each time. Should have run on the array of Violations.Make.unique()\n",
    "#and made a conversion dictionary, from old to new. Should be MUCH faster.\n",
    "#fn = lambda row: process.extractOne(row.Make, choices) # define a function for the new column\n",
    "#col = violations.apply(fn, axis=1) # get column data with an index\n",
    "#violations = violations.assign(Mfr=col.values) # assign values to column 'c'"
   ]
  },
  {
   "cell_type": "code",
   "execution_count": 30,
   "metadata": {},
   "outputs": [
    {
     "data": {
      "text/plain": [
       "110"
      ]
     },
     "execution_count": 30,
     "metadata": {},
     "output_type": "execute_result"
    }
   ],
   "source": [
    "uniqMake=list(violations.Make.unique())\n",
    "len(uniqMake)"
   ]
  },
  {
   "cell_type": "code",
   "execution_count": 65,
   "metadata": {
    "scrolled": false
   },
   "outputs": [
    {
     "data": {
      "text/plain": [
       "{'FORD': ('Ford', 100),\n",
       " 'TOYOTA': ('Toyota', 100),\n",
       " 'HONDA': ('Honda', 100),\n",
       " 'DODG': ('Dodge', 89),\n",
       " 'HYUNDAI': ('Hyundai', 100),\n",
       " 'DODGE': ('Dodge', 100),\n",
       " 'CADI': ('Cadillac', 90),\n",
       " 'CHEVROLET': ('Chevrolet', 100),\n",
       " 'AUDI': ('Audi', 100),\n",
       " 'TOYT': ('Toyota', 80),\n",
       " 'SATURN': ('Saturn', 100),\n",
       " 'LEXUS': ('Lexus', 100),\n",
       " 'ACUR': ('Acura', 89),\n",
       " 'NONE': ('General Motors', 45),\n",
       " 'MERCEDEZ': ('Mercedes', 88),\n",
       " 'BUICK': ('Buick', 100),\n",
       " 'CHEV': ('Chevrolet', 90),\n",
       " 'KAWASAKI': ('Kia', 72),\n",
       " 'ACURA': ('Acura', 100),\n",
       " 'JEEP': ('Jeep', 100),\n",
       " 'MITSUBISHI': ('Mitsubishi', 100),\n",
       " 'LINCOLN': ('Chevrolet', 38),\n",
       " 'HOND': ('Honda', 89),\n",
       " 'CHRY': ('Chrysler', 90),\n",
       " 'INFI': ('Mitsubishi', 45),\n",
       " 'SUBARU': ('Subaru', 100),\n",
       " 'GMC': ('Mercedes', 36),\n",
       " 'MAZDA': ('MAZDA', 100),\n",
       " 'BMW': ('BMW', 100),\n",
       " 'NISS': ('Nissan', 90),\n",
       " 'PONT': ('General Motors', 45),\n",
       " 'TOYOT': ('Toyota', 91),\n",
       " 'CHRYSLER': ('Chrysler', 100),\n",
       " 'OLDS': ('Volkswagen', 68),\n",
       " 'NISSAN': ('Nissan', 100),\n",
       " 'LNDR': ('Land Rover', 68),\n",
       " 'CHEVY': ('Chevrolet', 72),\n",
       " 'LINC': ('Land Rover', 45),\n",
       " 'LANDROVER': ('Land Rover', 95),\n",
       " 'TOY': ('Toyota', 90),\n",
       " 'INFINITI': ('Mitsubishi', 33),\n",
       " 'MERCURY': ('Mercedes', 53),\n",
       " 'SAAB': ('Saab', 100),\n",
       " 'HYUN': ('Hyundai', 90),\n",
       " 'KIA': ('Kia', 100),\n",
       " 'HUMMER': ('Chevrolet', 45),\n",
       " 'MERCEDES': ('Mercedes', 100),\n",
       " 'MERC': ('Mercedes', 90),\n",
       " 'MERZ': ('Mercedes', 68),\n",
       " 'SATU': ('Saturn', 90),\n",
       " 'SCION': ('Honda', 40),\n",
       " 'BUIC': ('Buick', 89),\n",
       " 'VOLK': ('Volkswagen', 90),\n",
       " 'RANGE ROVER': ('Land Rover', 76),\n",
       " 'MAZD': ('MAZDA', 89),\n",
       " 'MITS': ('Mitsubishi', 90),\n",
       " 'SUBA': ('Subaru', 90),\n",
       " 'PLYMOUTH': ('General Motors', 45),\n",
       " 'CHEVEROLET': ('Chevrolet', 95),\n",
       " 'VOLKSWAGON': ('Volkswagen', 90),\n",
       " 'INFINITY': ('Kia', 30),\n",
       " 'VOLKS': ('Volkswagen', 90),\n",
       " 'OLDSMOBILE': ('Lexus', 51),\n",
       " 'PONTIAC': ('Kia', 60),\n",
       " 'HYUNDIA': ('Hyundai', 86),\n",
       " 'SCIO': ('Porsche', 45),\n",
       " 'VW': ('BMW', 45),\n",
       " 'JAGUAR': ('Jaguar', 100),\n",
       " 'CADILLAC': ('Cadillac', 100),\n",
       " 'SUZI': ('Suzuki', 80),\n",
       " 'TOYO': ('Toyota', 90),\n",
       " 'FREIGHTLINER': ('Chrysler', 45),\n",
       " 'VOLVO': ('Volvo', 100),\n",
       " 'STRN': ('Saturn', 80),\n",
       " 'VOLKSWAGEN': ('Volkswagen', 100),\n",
       " 'MINI': ('Nissan', 45),\n",
       " 'CHEVORLET': ('Chevrolet', 89),\n",
       " 'LEXS': ('Lexus', 89),\n",
       " 'LEXU': ('Lexus', 89),\n",
       " 'VOLV': ('Volvo', 89),\n",
       " 'PORS': ('Porsche', 90),\n",
       " 'ISUZU': ('Suzuki', 73),\n",
       " 'NISSIAN': ('Nissan', 92),\n",
       " 'LAND ROVER': ('Land Rover', 100),\n",
       " 'SUZUKI': ('Suzuki', 100),\n",
       " 'INTL': ('Mitsubishi', 45),\n",
       " 'CADILAC': ('Cadillac', 93),\n",
       " 'SUB': ('Mitsubishi', 90),\n",
       " 'MACK': ('Cadillac', 51),\n",
       " 'ISUZ': ('Suzuki', 68),\n",
       " 'ISU': ('Nissan', 60),\n",
       " 'HINO': ('Mitsubishi', 60),\n",
       " 'GEO': ('Dodge', 72),\n",
       " 'HYUND': ('Hyundai', 83),\n",
       " 'CHRYSTLER': ('Chrysler', 94),\n",
       " 'MERCEDES BENZ': ('Mercedes', 90),\n",
       " 'LEX': ('Lexus', 90),\n",
       " 'TOYTA': ('Toyota', 91),\n",
       " 'INTERNATIONAL': ('Honda', 54),\n",
       " 'RAM': ('Acura', 72),\n",
       " 'FIAT': ('Kia', 57),\n",
       " 'CHRYS': ('Chrysler', 90),\n",
       " 'MITZ': ('Mitsubishi', 68),\n",
       " 'SUZU': ('Suzuki', 90),\n",
       " 'FRHT': ('Ford', 50),\n",
       " 'PORSCHE': ('Porsche', 100),\n",
       " 'JAGU': ('Jaguar', 90),\n",
       " 'TAOTAO': ('Toyota', 67),\n",
       " 'YAMAHA': ('MAZDA', 55),\n",
       " 'PLYM': ('General Motors', 45)}"
      ]
     },
     "execution_count": 65,
     "metadata": {},
     "output_type": "execute_result"
    }
   ],
   "source": [
    "mandict={}\n",
    "for i in uniqMake:\n",
    "    mandict[i]= process.extractOne(i, choices)\n",
    "mandict"
   ]
  },
  {
   "cell_type": "code",
   "execution_count": 66,
   "metadata": {},
   "outputs": [],
   "source": [
    "fn = lambda row: mandict[row.Make]\n",
    "col = violations.apply(fn, axis=1) # get column data with an index\n",
    "violations = violations.assign(Mfr=col.values) # assign values to column 'c'\n"
   ]
  },
  {
   "cell_type": "code",
   "execution_count": 80,
   "metadata": {},
   "outputs": [],
   "source": [
    "acceptmake=list(mandict.keys())\n",
    "acceptmake=['FORD',\n",
    " 'TOYOTA',\n",
    " 'HONDA',\n",
    " 'DODG',\n",
    " 'HYUNDAI',\n",
    " 'DODGE',\n",
    " 'CADI',\n",
    " 'CHEVROLET',\n",
    " 'AUDI',\n",
    " 'TOYT',\n",
    " 'SATURN',\n",
    " 'LEXUS',\n",
    " 'ACUR',\n",
    " 'MERCEDEZ',\n",
    " 'CHEV',\n",
    " 'ACURA',\n",
    " 'JEEP',\n",
    " 'MITSUBISHI',\n",
    " 'HOND',\n",
    " 'CHRY',\n",
    " 'SUBARU',\n",
    " 'GMC',\n",
    " 'MAZDA',\n",
    " 'BMW',\n",
    " 'NISS',\n",
    " 'TOYOT',\n",
    " 'CHRYSLER',\n",
    " 'NISSAN',\n",
    " 'LNDR',\n",
    " 'CHEVY',\n",
    " 'LANDROVER',\n",
    " 'TOY',\n",
    " 'MERCURY',\n",
    " 'SAAB',\n",
    " 'HYUN',\n",
    " 'KIA',\n",
    " 'MERCEDES',\n",
    " 'MERC',\n",
    " 'MERZ',\n",
    " 'SATU',\n",
    " 'VOLK',\n",
    " 'RANGE ROVER',\n",
    " 'MAZD',\n",
    " 'MITS',\n",
    " 'SUBA',\n",
    " 'PLYMOUTH',\n",
    " 'CHEVEROLET',\n",
    " 'VOLKSWAGON',\n",
    " 'INFINITY',\n",
    " 'VOLKS',\n",
    " 'HYUNDIA',\n",
    " 'VW',\n",
    " 'JAGUAR',\n",
    " 'CADILLAC',\n",
    " 'SUZI',\n",
    " 'TOYO',\n",
    " 'VOLVO',\n",
    " 'STRN',\n",
    " 'VOLKSWAGEN',\n",
    " 'CHEVORLET',\n",
    " 'LEXS',\n",
    " 'LEXU',\n",
    " 'VOLV',\n",
    " 'PORS',\n",
    " 'NISSIAN',\n",
    " 'LAND ROVER',\n",
    " 'SUZUKI',\n",
    " 'CADILAC',\n",
    " 'SUB',\n",
    " 'HYUND',\n",
    " 'CHRYSTLER',\n",
    " 'MERCEDES BENZ',\n",
    " 'LEX',\n",
    " 'TOYTA',\n",
    " 'CHRYS',\n",
    " 'MITZ',\n",
    " 'SUZU',\n",
    " 'PORSCHE',\n",
    " 'JAGU']"
   ]
  },
  {
   "cell_type": "code",
   "execution_count": 81,
   "metadata": {},
   "outputs": [],
   "source": [
    "violations=violations[violations.Make.isin(acceptmake)]\n"
   ]
  },
  {
   "cell_type": "code",
   "execution_count": 82,
   "metadata": {},
   "outputs": [
    {
     "data": {
      "text/plain": [
       "1190490"
      ]
     },
     "execution_count": 82,
     "metadata": {},
     "output_type": "execute_result"
    }
   ],
   "source": [
    "len(violations.Make)"
   ]
  },
  {
   "cell_type": "code",
   "execution_count": 83,
   "metadata": {},
   "outputs": [
    {
     "data": {
      "text/plain": [
       "{'FORD': ('Ford', 100),\n",
       " 'TOYOTA': ('Toyota', 100),\n",
       " 'HONDA': ('Honda', 100),\n",
       " 'DODG': ('Dodge', 89),\n",
       " 'HYUNDAI': ('Hyundai', 100),\n",
       " 'DODGE': ('Dodge', 100),\n",
       " 'CADI': ('Cadillac', 90),\n",
       " 'CHEVROLET': ('Chevrolet', 100),\n",
       " 'AUDI': ('Audi', 100),\n",
       " 'TOYT': ('Toyota', 80),\n",
       " 'SATURN': ('Saturn', 100),\n",
       " 'LEXUS': ('Lexus', 100),\n",
       " 'ACUR': ('Acura', 89),\n",
       " 'MERCEDEZ': ('Mercedes', 88),\n",
       " 'CHEV': ('Chevrolet', 90),\n",
       " 'ACURA': ('Acura', 100),\n",
       " 'JEEP': ('Jeep', 100),\n",
       " 'MITSUBISHI': ('Mitsubishi', 100),\n",
       " 'HOND': ('Honda', 89),\n",
       " 'CHRY': ('Chrysler', 90),\n",
       " 'SUBARU': ('Subaru', 100),\n",
       " 'GMC': ('GMC', 100),\n",
       " 'MAZDA': ('MAZDA', 100),\n",
       " 'BMW': ('BMW', 100),\n",
       " 'NISS': ('Nissan', 90),\n",
       " 'TOYOT': ('Toyota', 91),\n",
       " 'CHRYSLER': ('Chrysler', 100),\n",
       " 'NISSAN': ('Nissan', 100),\n",
       " 'LNDR': ('Land Rover', 68),\n",
       " 'CHEVY': ('Chevrolet', 72),\n",
       " 'LANDROVER': ('Land Rover', 95),\n",
       " 'TOY': ('Toyota', 90),\n",
       " 'MERCURY': ('Mercedes', 53),\n",
       " 'SAAB': ('Saab', 100),\n",
       " 'HYUN': ('Hyundai', 90),\n",
       " 'KIA': ('Kia', 100),\n",
       " 'MERCEDES': ('Mercedes', 100),\n",
       " 'MERC': ('Mercedes', 90),\n",
       " 'MERZ': ('Mercedes', 68),\n",
       " 'SATU': ('Saturn', 90),\n",
       " 'VOLK': ('Volkswagen', 90),\n",
       " 'RANGE ROVER': ('Land Rover', 76),\n",
       " 'MAZD': ('MAZDA', 89),\n",
       " 'MITS': ('Mitsubishi', 90),\n",
       " 'SUBA': ('Subaru', 90),\n",
       " 'PLYMOUTH': ('General Motors', 45),\n",
       " 'CHEVEROLET': ('Chevrolet', 95),\n",
       " 'VOLKSWAGON': ('Volkswagen', 90),\n",
       " 'INFINITY': ('Kia', 30),\n",
       " 'VOLKS': ('Volkswagen', 90),\n",
       " 'HYUNDIA': ('Hyundai', 86),\n",
       " 'VW': ('VW', 100),\n",
       " 'JAGUAR': ('Jaguar', 100),\n",
       " 'CADILLAC': ('Cadillac', 100),\n",
       " 'SUZI': ('Suzuki', 80),\n",
       " 'TOYO': ('Toyota', 90),\n",
       " 'VOLVO': ('Volvo', 100),\n",
       " 'STRN': ('Saturn', 80),\n",
       " 'VOLKSWAGEN': ('Volkswagen', 100),\n",
       " 'CHEVORLET': ('Chevrolet', 89),\n",
       " 'LEXS': ('Lexus', 89),\n",
       " 'LEXU': ('Lexus', 89),\n",
       " 'VOLV': ('Volvo', 89),\n",
       " 'PORS': ('Porsche', 90),\n",
       " 'NISSIAN': ('Nissan', 92),\n",
       " 'LAND ROVER': ('Land Rover', 100),\n",
       " 'SUZUKI': ('Suzuki', 100),\n",
       " 'CADILAC': ('Cadillac', 93),\n",
       " 'SUB': ('Mitsubishi', 90),\n",
       " 'HYUND': ('Hyundai', 83),\n",
       " 'CHRYSTLER': ('Chrysler', 94),\n",
       " 'MERCEDES BENZ': ('Mercedes', 90),\n",
       " 'LEX': ('Lexus', 90),\n",
       " 'TOYTA': ('Toyota', 91),\n",
       " 'CHRYS': ('Chrysler', 90),\n",
       " 'MITZ': ('Mitsubishi', 68),\n",
       " 'SUZU': ('Suzuki', 90),\n",
       " 'PORSCHE': ('Porsche', 100),\n",
       " 'JAGU': ('Jaguar', 90)}"
      ]
     },
     "execution_count": 83,
     "metadata": {},
     "output_type": "execute_result"
    }
   ],
   "source": [
    "mandict={}\n",
    "for i in violations.Make.unique():\n",
    "    mandict[i]= process.extractOne(i, choices)\n",
    "mandict"
   ]
  },
  {
   "cell_type": "code",
   "execution_count": null,
   "metadata": {},
   "outputs": [],
   "source": [
    "del violations['Mfr']"
   ]
  },
  {
   "cell_type": "code",
   "execution_count": 92,
   "metadata": {},
   "outputs": [
    {
     "data": {
      "text/plain": [
       "1190490"
      ]
     },
     "execution_count": 92,
     "metadata": {},
     "output_type": "execute_result"
    }
   ],
   "source": [
    "len(violations)"
   ]
  },
  {
   "cell_type": "code",
   "execution_count": 93,
   "metadata": {},
   "outputs": [],
   "source": [
    "fn = lambda row: mandict[row.Make]\n",
    "col = violations.apply(fn, axis=1) # get column data with an index\n",
    "violations = violations.assign(Mfr=col.values) # assign values to column 'c'"
   ]
  },
  {
   "cell_type": "code",
   "execution_count": 98,
   "metadata": {},
   "outputs": [
    {
     "data": {
      "text/html": [
       "<div>\n",
       "<style scoped>\n",
       "    .dataframe tbody tr th:only-of-type {\n",
       "        vertical-align: middle;\n",
       "    }\n",
       "\n",
       "    .dataframe tbody tr th {\n",
       "        vertical-align: top;\n",
       "    }\n",
       "\n",
       "    .dataframe thead th {\n",
       "        text-align: right;\n",
       "    }\n",
       "</style>\n",
       "<table border=\"1\" class=\"dataframe\">\n",
       "  <thead>\n",
       "    <tr style=\"text-align: right;\">\n",
       "      <th></th>\n",
       "      <th>Date Of Stop</th>\n",
       "      <th>Time Of Stop</th>\n",
       "      <th>Latitude</th>\n",
       "      <th>Longitude</th>\n",
       "      <th>Year</th>\n",
       "      <th>Make</th>\n",
       "      <th>Model</th>\n",
       "      <th>Color</th>\n",
       "      <th>Race</th>\n",
       "      <th>Gender</th>\n",
       "      <th>Geolocation</th>\n",
       "      <th>datetime</th>\n",
       "      <th>Mfr</th>\n",
       "    </tr>\n",
       "  </thead>\n",
       "  <tbody>\n",
       "    <tr>\n",
       "      <td>0</td>\n",
       "      <td>2013-09-24</td>\n",
       "      <td>17:11:00</td>\n",
       "      <td>NaN</td>\n",
       "      <td>NaN</td>\n",
       "      <td>2008.0</td>\n",
       "      <td>FORD</td>\n",
       "      <td>4S</td>\n",
       "      <td>BLACK</td>\n",
       "      <td>BLACK</td>\n",
       "      <td>M</td>\n",
       "      <td>NaN</td>\n",
       "      <td>09/24/201317:11:00</td>\n",
       "      <td>(Ford, 100)</td>\n",
       "    </tr>\n",
       "    <tr>\n",
       "      <td>1</td>\n",
       "      <td>2017-08-29</td>\n",
       "      <td>10:19:00</td>\n",
       "      <td>38.981725</td>\n",
       "      <td>-77.092757</td>\n",
       "      <td>2001.0</td>\n",
       "      <td>TOYOTA</td>\n",
       "      <td>COROLLA</td>\n",
       "      <td>GREEN</td>\n",
       "      <td>WHITE</td>\n",
       "      <td>F</td>\n",
       "      <td>(38.981725, -77.0927566666667)</td>\n",
       "      <td>08/29/201710:19:00</td>\n",
       "      <td>(Toyota, 100)</td>\n",
       "    </tr>\n",
       "    <tr>\n",
       "      <td>2</td>\n",
       "      <td>2014-12-01</td>\n",
       "      <td>12:52:00</td>\n",
       "      <td>39.162888</td>\n",
       "      <td>-77.229088</td>\n",
       "      <td>2001.0</td>\n",
       "      <td>HONDA</td>\n",
       "      <td>ACCORD</td>\n",
       "      <td>SILVER</td>\n",
       "      <td>BLACK</td>\n",
       "      <td>F</td>\n",
       "      <td>(39.1628883333333, -77.2290883333333)</td>\n",
       "      <td>12/01/201412:52:00</td>\n",
       "      <td>(Honda, 100)</td>\n",
       "    </tr>\n",
       "    <tr>\n",
       "      <td>3</td>\n",
       "      <td>2017-08-29</td>\n",
       "      <td>09:22:00</td>\n",
       "      <td>39.056975</td>\n",
       "      <td>-76.954633</td>\n",
       "      <td>1998.0</td>\n",
       "      <td>DODG</td>\n",
       "      <td>DAKOTA</td>\n",
       "      <td>WHITE</td>\n",
       "      <td>BLACK</td>\n",
       "      <td>M</td>\n",
       "      <td>(39.056975, -76.9546333333333)</td>\n",
       "      <td>08/29/201709:22:00</td>\n",
       "      <td>(Dodge, 89)</td>\n",
       "    </tr>\n",
       "    <tr>\n",
       "      <td>4</td>\n",
       "      <td>2013-08-27</td>\n",
       "      <td>00:55:00</td>\n",
       "      <td>NaN</td>\n",
       "      <td>NaN</td>\n",
       "      <td>2013.0</td>\n",
       "      <td>HYUNDAI</td>\n",
       "      <td>ELANTRA</td>\n",
       "      <td>GRAY</td>\n",
       "      <td>WHITE</td>\n",
       "      <td>F</td>\n",
       "      <td>NaN</td>\n",
       "      <td>08/27/201300:55:00</td>\n",
       "      <td>(Hyundai, 100)</td>\n",
       "    </tr>\n",
       "  </tbody>\n",
       "</table>\n",
       "</div>"
      ],
      "text/plain": [
       "  Date Of Stop Time Of Stop   Latitude  Longitude    Year     Make    Model  \\\n",
       "0   2013-09-24     17:11:00        NaN        NaN  2008.0     FORD       4S   \n",
       "1   2017-08-29     10:19:00  38.981725 -77.092757  2001.0   TOYOTA  COROLLA   \n",
       "2   2014-12-01     12:52:00  39.162888 -77.229088  2001.0    HONDA   ACCORD   \n",
       "3   2017-08-29     09:22:00  39.056975 -76.954633  1998.0     DODG   DAKOTA   \n",
       "4   2013-08-27     00:55:00        NaN        NaN  2013.0  HYUNDAI  ELANTRA   \n",
       "\n",
       "    Color   Race Gender                            Geolocation  \\\n",
       "0   BLACK  BLACK      M                                    NaN   \n",
       "1   GREEN  WHITE      F         (38.981725, -77.0927566666667)   \n",
       "2  SILVER  BLACK      F  (39.1628883333333, -77.2290883333333)   \n",
       "3   WHITE  BLACK      M         (39.056975, -76.9546333333333)   \n",
       "4    GRAY  WHITE      F                                    NaN   \n",
       "\n",
       "             datetime             Mfr  \n",
       "0  09/24/201317:11:00     (Ford, 100)  \n",
       "1  08/29/201710:19:00   (Toyota, 100)  \n",
       "2  12/01/201412:52:00    (Honda, 100)  \n",
       "3  08/29/201709:22:00     (Dodge, 89)  \n",
       "4  08/27/201300:55:00  (Hyundai, 100)  "
      ]
     },
     "execution_count": 98,
     "metadata": {},
     "output_type": "execute_result"
    }
   ],
   "source": [
    "violations.head()"
   ]
  },
  {
   "cell_type": "code",
   "execution_count": 103,
   "metadata": {},
   "outputs": [
    {
     "data": {
      "text/plain": [
       "'Ford'"
      ]
     },
     "execution_count": 103,
     "metadata": {},
     "output_type": "execute_result"
    }
   ],
   "source": [
    "violations.Mfr[0][0]"
   ]
  },
  {
   "cell_type": "code",
   "execution_count": 108,
   "metadata": {},
   "outputs": [
    {
     "data": {
      "text/plain": [
       "array(['aston martin', 'Audi', 'Bentley', 'BMW', 'Bugatti',\n",
       "       'General Motors', 'Ferrari', 'Honda', 'Lamborghini', 'Toyota',\n",
       "       'MAZDA', 'McLaren Automotive ', 'Mercedes-Benz', 'Nissan',\n",
       "       'Porsche', 'Chrysler Group LLC', 'Jaguar Cars', 'Lotus',\n",
       "       'Mitsubishi Motors NA', 'Ford Motor Company', 'Hyundai',\n",
       "       'Maserati', 'Roush', 'Volkswagen', 'Volvo', 'Kia',\n",
       "       'Mitsubishi Motors Co', 'Rolls-Royce', 'Saab Cars North America',\n",
       "       'Subaru', 'Suzuki', 'VPG', 'Land Rover'], dtype=object)"
      ]
     },
     "execution_count": 108,
     "metadata": {},
     "output_type": "execute_result"
    }
   ],
   "source": [
    "fecon.MfrName.unique()"
   ]
  },
  {
   "cell_type": "code",
   "execution_count": 111,
   "metadata": {},
   "outputs": [],
   "source": [
    "fmake=['Audi', 'Bentley', 'BMW','General Motors', 'Honda', 'Toyota',\n",
    "       'MAZDA', 'Mercedes-Benz', 'Nissan',\n",
    "       'Porsche', 'Chrysler Group LLC', 'Jaguar Cars',\n",
    "       'Mitsubishi Motors NA', 'Ford Motor Company', 'Hyundai','Volkswagen', 'Volvo', 'Kia',\n",
    "       'Mitsubishi Motors Co','Saab Cars North America',\n",
    "       'Subaru', 'Suzuki', 'Land Rover']\n",
    "\n"
   ]
  },
  {
   "cell_type": "code",
   "execution_count": 112,
   "metadata": {},
   "outputs": [],
   "source": [
    "fecon=fecon[fecon.MfrName.isin(fmake)]"
   ]
  },
  {
   "cell_type": "code",
   "execution_count": 113,
   "metadata": {},
   "outputs": [
    {
     "data": {
      "text/html": [
       "<div>\n",
       "<style scoped>\n",
       "    .dataframe tbody tr th:only-of-type {\n",
       "        vertical-align: middle;\n",
       "    }\n",
       "\n",
       "    .dataframe tbody tr th {\n",
       "        vertical-align: top;\n",
       "    }\n",
       "\n",
       "    .dataframe thead th {\n",
       "        text-align: right;\n",
       "    }\n",
       "</style>\n",
       "<table border=\"1\" class=\"dataframe\">\n",
       "  <thead>\n",
       "    <tr style=\"text-align: right;\">\n",
       "      <th></th>\n",
       "      <th>MfrName</th>\n",
       "      <th>Carline</th>\n",
       "      <th>ModelYr</th>\n",
       "      <th>CityFE(Guide)-ConventionalFuel</th>\n",
       "      <th>HwyFE(Guide)-ConventionalFuel</th>\n",
       "      <th>CombFE(Guide)-ConventionalFuel</th>\n",
       "      <th>Guzzler</th>\n",
       "      <th>AnnualFuel1Cost-ConventionalFuel</th>\n",
       "      <th>MakeModel</th>\n",
       "    </tr>\n",
       "  </thead>\n",
       "  <tbody>\n",
       "    <tr>\n",
       "      <td>5</td>\n",
       "      <td>Audi</td>\n",
       "      <td>R8</td>\n",
       "      <td>2012</td>\n",
       "      <td>13</td>\n",
       "      <td>21</td>\n",
       "      <td>16</td>\n",
       "      <td>G</td>\n",
       "      <td>3000</td>\n",
       "      <td>AudiR8</td>\n",
       "    </tr>\n",
       "    <tr>\n",
       "      <td>6</td>\n",
       "      <td>Audi</td>\n",
       "      <td>R8</td>\n",
       "      <td>2012</td>\n",
       "      <td>11</td>\n",
       "      <td>20</td>\n",
       "      <td>14</td>\n",
       "      <td>G</td>\n",
       "      <td>3427</td>\n",
       "      <td>AudiR8</td>\n",
       "    </tr>\n",
       "    <tr>\n",
       "      <td>7</td>\n",
       "      <td>Audi</td>\n",
       "      <td>R8</td>\n",
       "      <td>2012</td>\n",
       "      <td>13</td>\n",
       "      <td>19</td>\n",
       "      <td>15</td>\n",
       "      <td>G</td>\n",
       "      <td>3202</td>\n",
       "      <td>AudiR8</td>\n",
       "    </tr>\n",
       "    <tr>\n",
       "      <td>8</td>\n",
       "      <td>Audi</td>\n",
       "      <td>R8</td>\n",
       "      <td>2012</td>\n",
       "      <td>12</td>\n",
       "      <td>19</td>\n",
       "      <td>14</td>\n",
       "      <td>G</td>\n",
       "      <td>3427</td>\n",
       "      <td>AudiR8</td>\n",
       "    </tr>\n",
       "    <tr>\n",
       "      <td>9</td>\n",
       "      <td>Audi</td>\n",
       "      <td>R8 Spyder</td>\n",
       "      <td>2012</td>\n",
       "      <td>13</td>\n",
       "      <td>21</td>\n",
       "      <td>16</td>\n",
       "      <td>G</td>\n",
       "      <td>3000</td>\n",
       "      <td>AudiR8 Spyder</td>\n",
       "    </tr>\n",
       "  </tbody>\n",
       "</table>\n",
       "</div>"
      ],
      "text/plain": [
       "  MfrName    Carline  ModelYr  CityFE(Guide)-ConventionalFuel  \\\n",
       "5    Audi         R8     2012                              13   \n",
       "6    Audi         R8     2012                              11   \n",
       "7    Audi         R8     2012                              13   \n",
       "8    Audi         R8     2012                              12   \n",
       "9    Audi  R8 Spyder     2012                              13   \n",
       "\n",
       "   HwyFE(Guide)-ConventionalFuel  CombFE(Guide)-ConventionalFuel Guzzler  \\\n",
       "5                             21                              16       G   \n",
       "6                             20                              14       G   \n",
       "7                             19                              15       G   \n",
       "8                             19                              14       G   \n",
       "9                             21                              16       G   \n",
       "\n",
       "   AnnualFuel1Cost-ConventionalFuel      MakeModel  \n",
       "5                              3000         AudiR8  \n",
       "6                              3427         AudiR8  \n",
       "7                              3202         AudiR8  \n",
       "8                              3427         AudiR8  \n",
       "9                              3000  AudiR8 Spyder  "
      ]
     },
     "execution_count": 113,
     "metadata": {},
     "output_type": "execute_result"
    }
   ],
   "source": [
    "fecon.head()"
   ]
  },
  {
   "cell_type": "code",
   "execution_count": 114,
   "metadata": {},
   "outputs": [],
   "source": [
    "del fecon['MakeModel']"
   ]
  },
  {
   "cell_type": "code",
   "execution_count": 115,
   "metadata": {},
   "outputs": [
    {
     "data": {
      "text/html": [
       "<div>\n",
       "<style scoped>\n",
       "    .dataframe tbody tr th:only-of-type {\n",
       "        vertical-align: middle;\n",
       "    }\n",
       "\n",
       "    .dataframe tbody tr th {\n",
       "        vertical-align: top;\n",
       "    }\n",
       "\n",
       "    .dataframe thead th {\n",
       "        text-align: right;\n",
       "    }\n",
       "</style>\n",
       "<table border=\"1\" class=\"dataframe\">\n",
       "  <thead>\n",
       "    <tr style=\"text-align: right;\">\n",
       "      <th></th>\n",
       "      <th>MfrName</th>\n",
       "      <th>Carline</th>\n",
       "      <th>ModelYr</th>\n",
       "      <th>CityFE(Guide)-ConventionalFuel</th>\n",
       "      <th>HwyFE(Guide)-ConventionalFuel</th>\n",
       "      <th>CombFE(Guide)-ConventionalFuel</th>\n",
       "      <th>Guzzler</th>\n",
       "      <th>AnnualFuel1Cost-ConventionalFuel</th>\n",
       "      <th>MakeModel</th>\n",
       "    </tr>\n",
       "  </thead>\n",
       "  <tbody>\n",
       "    <tr>\n",
       "      <td>639</td>\n",
       "      <td>Audi</td>\n",
       "      <td>A3</td>\n",
       "      <td>2012</td>\n",
       "      <td>21</td>\n",
       "      <td>30</td>\n",
       "      <td>24</td>\n",
       "      <td>NaN</td>\n",
       "      <td>2002</td>\n",
       "      <td>Audi A3</td>\n",
       "    </tr>\n",
       "    <tr>\n",
       "      <td>638</td>\n",
       "      <td>Audi</td>\n",
       "      <td>A3</td>\n",
       "      <td>2012</td>\n",
       "      <td>22</td>\n",
       "      <td>28</td>\n",
       "      <td>24</td>\n",
       "      <td>NaN</td>\n",
       "      <td>2002</td>\n",
       "      <td>Audi A3</td>\n",
       "    </tr>\n",
       "    <tr>\n",
       "      <td>641</td>\n",
       "      <td>Audi</td>\n",
       "      <td>A3 QUATTRO</td>\n",
       "      <td>2012</td>\n",
       "      <td>21</td>\n",
       "      <td>28</td>\n",
       "      <td>24</td>\n",
       "      <td>NaN</td>\n",
       "      <td>2002</td>\n",
       "      <td>Audi A3 QUATTRO</td>\n",
       "    </tr>\n",
       "    <tr>\n",
       "      <td>257</td>\n",
       "      <td>Audi</td>\n",
       "      <td>A4</td>\n",
       "      <td>2012</td>\n",
       "      <td>22</td>\n",
       "      <td>30</td>\n",
       "      <td>25</td>\n",
       "      <td>NaN</td>\n",
       "      <td>1920</td>\n",
       "      <td>Audi A4</td>\n",
       "    </tr>\n",
       "    <tr>\n",
       "      <td>642</td>\n",
       "      <td>Audi</td>\n",
       "      <td>A4 AVANT QUATTRO</td>\n",
       "      <td>2012</td>\n",
       "      <td>21</td>\n",
       "      <td>29</td>\n",
       "      <td>24</td>\n",
       "      <td>NaN</td>\n",
       "      <td>2002</td>\n",
       "      <td>Audi A4 AVANT QUATTRO</td>\n",
       "    </tr>\n",
       "    <tr>\n",
       "      <td>...</td>\n",
       "      <td>...</td>\n",
       "      <td>...</td>\n",
       "      <td>...</td>\n",
       "      <td>...</td>\n",
       "      <td>...</td>\n",
       "      <td>...</td>\n",
       "      <td>...</td>\n",
       "      <td>...</td>\n",
       "      <td>...</td>\n",
       "    </tr>\n",
       "    <tr>\n",
       "      <td>1138</td>\n",
       "      <td>Volvo</td>\n",
       "      <td>XC70 AWD</td>\n",
       "      <td>2012</td>\n",
       "      <td>17</td>\n",
       "      <td>23</td>\n",
       "      <td>20</td>\n",
       "      <td>NaN</td>\n",
       "      <td>2775</td>\n",
       "      <td>Volvo XC70 AWD</td>\n",
       "    </tr>\n",
       "    <tr>\n",
       "      <td>1139</td>\n",
       "      <td>Volvo</td>\n",
       "      <td>XC70 AWD</td>\n",
       "      <td>2012</td>\n",
       "      <td>18</td>\n",
       "      <td>24</td>\n",
       "      <td>20</td>\n",
       "      <td>NaN</td>\n",
       "      <td>2775</td>\n",
       "      <td>Volvo XC70 AWD</td>\n",
       "    </tr>\n",
       "    <tr>\n",
       "      <td>975</td>\n",
       "      <td>Volvo</td>\n",
       "      <td>XC70 FWD</td>\n",
       "      <td>2012</td>\n",
       "      <td>19</td>\n",
       "      <td>25</td>\n",
       "      <td>21</td>\n",
       "      <td>NaN</td>\n",
       "      <td>2642</td>\n",
       "      <td>Volvo XC70 FWD</td>\n",
       "    </tr>\n",
       "    <tr>\n",
       "      <td>1140</td>\n",
       "      <td>Volvo</td>\n",
       "      <td>XC90 AWD</td>\n",
       "      <td>2012</td>\n",
       "      <td>16</td>\n",
       "      <td>23</td>\n",
       "      <td>18</td>\n",
       "      <td>NaN</td>\n",
       "      <td>3086</td>\n",
       "      <td>Volvo XC90 AWD</td>\n",
       "    </tr>\n",
       "    <tr>\n",
       "      <td>976</td>\n",
       "      <td>Volvo</td>\n",
       "      <td>XC90 FWD</td>\n",
       "      <td>2012</td>\n",
       "      <td>16</td>\n",
       "      <td>23</td>\n",
       "      <td>19</td>\n",
       "      <td>NaN</td>\n",
       "      <td>2919</td>\n",
       "      <td>Volvo XC90 FWD</td>\n",
       "    </tr>\n",
       "  </tbody>\n",
       "</table>\n",
       "<p>1102 rows × 9 columns</p>\n",
       "</div>"
      ],
      "text/plain": [
       "     MfrName           Carline  ModelYr  CityFE(Guide)-ConventionalFuel  \\\n",
       "639     Audi                A3     2012                              21   \n",
       "638     Audi                A3     2012                              22   \n",
       "641     Audi        A3 QUATTRO     2012                              21   \n",
       "257     Audi                A4     2012                              22   \n",
       "642     Audi  A4 AVANT QUATTRO     2012                              21   \n",
       "...      ...               ...      ...                             ...   \n",
       "1138   Volvo          XC70 AWD     2012                              17   \n",
       "1139   Volvo          XC70 AWD     2012                              18   \n",
       "975    Volvo          XC70 FWD     2012                              19   \n",
       "1140   Volvo          XC90 AWD     2012                              16   \n",
       "976    Volvo          XC90 FWD     2012                              16   \n",
       "\n",
       "      HwyFE(Guide)-ConventionalFuel  CombFE(Guide)-ConventionalFuel Guzzler  \\\n",
       "639                              30                              24     NaN   \n",
       "638                              28                              24     NaN   \n",
       "641                              28                              24     NaN   \n",
       "257                              30                              25     NaN   \n",
       "642                              29                              24     NaN   \n",
       "...                             ...                             ...     ...   \n",
       "1138                             23                              20     NaN   \n",
       "1139                             24                              20     NaN   \n",
       "975                              25                              21     NaN   \n",
       "1140                             23                              18     NaN   \n",
       "976                              23                              19     NaN   \n",
       "\n",
       "      AnnualFuel1Cost-ConventionalFuel              MakeModel  \n",
       "639                               2002                Audi A3  \n",
       "638                               2002                Audi A3  \n",
       "641                               2002        Audi A3 QUATTRO  \n",
       "257                               1920                Audi A4  \n",
       "642                               2002  Audi A4 AVANT QUATTRO  \n",
       "...                                ...                    ...  \n",
       "1138                              2775         Volvo XC70 AWD  \n",
       "1139                              2775         Volvo XC70 AWD  \n",
       "975                               2642         Volvo XC70 FWD  \n",
       "1140                              3086         Volvo XC90 AWD  \n",
       "976                               2919         Volvo XC90 FWD  \n",
       "\n",
       "[1102 rows x 9 columns]"
      ]
     },
     "execution_count": 115,
     "metadata": {},
     "output_type": "execute_result"
    }
   ],
   "source": [
    "fn = lambda row: row.MfrName +' '+ row.Carline # define a function for the new column\n",
    "col = fecon.apply(fn, axis=1) # get column data with an index\n",
    "fecon = fecon.assign(MakeModel=col.values) # assign values to column 'c'\n",
    "fecon.sort_values(by=['MakeModel'])"
   ]
  },
  {
   "cell_type": "code",
   "execution_count": 117,
   "metadata": {},
   "outputs": [],
   "source": [
    "fn = lambda row: row.Mfr[0]\n",
    "col = violations.apply(fn, axis=1) # get column data with an index\n",
    "violations = violations.assign(MAKE=col.values) # assign values to column 'c'"
   ]
  },
  {
   "cell_type": "code",
   "execution_count": 125,
   "metadata": {},
   "outputs": [],
   "source": [
    "fn = lambda row: str(row.MAKE)+ ' ' + str(row.Model)\n",
    "col = violations.apply(fn, axis=1) # get column data with an index\n",
    "violations = violations.assign(MAKEModel=col.values) # assign values to column 'c'"
   ]
  },
  {
   "cell_type": "code",
   "execution_count": 130,
   "metadata": {},
   "outputs": [],
   "source": [
    "violations.MAKEModel\n",
    "fecon.MfrName.unique()"
   ]
  },
  {
   "cell_type": "code",
   "execution_count": 219,
   "metadata": {},
   "outputs": [],
   "source": [
    "\n",
    "fordvio=violations[violations.MAKE=='Ford']\n",
    "fordeco=fecon[fecon.MfrName=='Ford Motor Company']\n",
    "fordchoices=list(fordeco.Carline.unique())\n",
    "\n",
    "\n"
   ]
  },
  {
   "cell_type": "code",
   "execution_count": 218,
   "metadata": {
    "scrolled": false
   },
   "outputs": [],
   "source": [
    "forddict={}\n",
    "for i in [str(x) for x in fordvio.Model.unique()]:\n",
    "    forddict[i]= process.extractOne(i, fordchoices)\n"
   ]
  },
  {
   "cell_type": "markdown",
   "metadata": {},
   "source": [
    "# That worked for Ford. \n",
    "## so lets focus on them for a minute."
   ]
  },
  {
   "cell_type": "code",
   "execution_count": 222,
   "metadata": {},
   "outputs": [
    {
     "data": {
      "text/plain": [
       "Index(['index', 'Date Of Stop', 'Time Of Stop', 'Latitude', 'Longitude',\n",
       "       'Year', 'Make', 'Model', 'Color', 'Race', 'Gender', 'Geolocation',\n",
       "       'datetime', 'Mfr', 'MAKE', 'MAKEModel'],\n",
       "      dtype='object')"
      ]
     },
     "execution_count": 222,
     "metadata": {},
     "output_type": "execute_result"
    }
   ],
   "source": [
    "fordvio.reset_index(inplace=True)\n",
    "fordvio.columns"
   ]
  },
  {
   "cell_type": "code",
   "execution_count": 224,
   "metadata": {},
   "outputs": [],
   "source": [
    "fn = lambda row: forddict[str(row.Model)]\n",
    "col = fordvio.apply(fn, axis=1) # get column data with an index\n",
    "fordvio = fordvio.assign(Models=col.values) # assign values to column 'c'"
   ]
  },
  {
   "cell_type": "code",
   "execution_count": 225,
   "metadata": {},
   "outputs": [],
   "source": [
    "fn = lambda row: row.Models[0]\n",
    "col = fordvio.apply(fn, axis=1) # get column data with an index\n",
    "fordvio = fordvio.assign(MODELS=col.values) # assign values to column 'c'"
   ]
  },
  {
   "cell_type": "code",
   "execution_count": 227,
   "metadata": {},
   "outputs": [],
   "source": [
    "fn = lambda row: row.Models[1]\n",
    "col = fordvio.apply(fn, axis=1) # get column data with an index\n",
    "fordvio = fordvio.assign(fuzz=col.values) # assign values to column 'c'"
   ]
  },
  {
   "cell_type": "markdown",
   "metadata": {},
   "source": [
    "# Drop all rows with fuzz rating below 80.\n",
    "### we are less than 80% sure its correct"
   ]
  },
  {
   "cell_type": "code",
   "execution_count": 236,
   "metadata": {},
   "outputs": [],
   "source": [
    "fordvio.drop(fordvio[fordvio.fuzz < 80].index, inplace=True)"
   ]
  },
  {
   "cell_type": "markdown",
   "metadata": {},
   "source": [
    "## now we need to map the fuel econ values onto the ford violations table "
   ]
  },
  {
   "cell_type": "code",
   "execution_count": null,
   "metadata": {},
   "outputs": [],
   "source": []
  }
 ],
 "metadata": {
  "kernelspec": {
   "display_name": "Python 3",
   "language": "python",
   "name": "python3"
  },
  "language_info": {
   "codemirror_mode": {
    "name": "ipython",
    "version": 3
   },
   "file_extension": ".py",
   "mimetype": "text/x-python",
   "name": "python",
   "nbconvert_exporter": "python",
   "pygments_lexer": "ipython3",
   "version": "3.7.4"
  }
 },
 "nbformat": 4,
 "nbformat_minor": 2
}
