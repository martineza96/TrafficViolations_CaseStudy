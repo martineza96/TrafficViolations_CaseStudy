{
 "cells": [
  {
   "cell_type": "code",
   "execution_count": 3,
   "metadata": {},
   "outputs": [
    {
     "name": "stderr",
     "output_type": "stream",
     "text": [
      "/home/mitch/anaconda3/lib/python3.7/site-packages/fuzzywuzzy/fuzz.py:11: UserWarning: Using slow pure-python SequenceMatcher. Install python-Levenshtein to remove this warning\n",
      "  warnings.warn('Using slow pure-python SequenceMatcher. Install python-Levenshtein to remove this warning')\n"
     ]
    }
   ],
   "source": [
    "import numpy as np\n",
    "import pandas as pd\n",
    "import matplotlib as mlt\n",
    "import matplotlib.pyplot as plt\n",
    "import difflib\n",
    "from fuzzywuzzy import fuzz ## produces an error code could not install python-Levenshtein\n",
    "from fuzzywuzzy import process\n",
    "import folium\n",
    "from folium.plugins import HeatMap"
   ]
  },
  {
   "cell_type": "code",
   "execution_count": 4,
   "metadata": {},
   "outputs": [],
   "source": [
    "df_focus=pd.read_csv('data/df_focus.csv',low_memory=False)"
   ]
  },
  {
   "cell_type": "code",
   "execution_count": 5,
   "metadata": {},
   "outputs": [],
   "source": [
    "df_focus=df_focus.dropna(axis=0)"
   ]
  },
  {
   "cell_type": "code",
   "execution_count": 61,
   "metadata": {},
   "outputs": [],
   "source": [
    "df_focus=df_focus[['Latitude','Longitude']]\n",
    "df_focus=df_focus.reset_index()\n",
    "df_focus=df_focus[['Latitude','Longitude']]"
   ]
  },
  {
   "cell_type": "code",
   "execution_count": 6,
   "metadata": {},
   "outputs": [],
   "source": [
    "df_sample=df_focus.sample(30000)"
   ]
  },
  {
   "cell_type": "code",
   "execution_count": 10,
   "metadata": {},
   "outputs": [],
   "source": [
    "maryland = folium.Map(location=[39.0738, -77.1034],\n",
    "                        zoom_start=11,\n",
    "                        tiles=\"Cartodbpositron\")\n",
    "heat_map = folium.FeatureGroup(name = 'heat_map')\n",
    "max_amount = float(50)\n",
    "heat_map.add_child( HeatMap( list(zip(df_sample['Latitude'].values, df_sample['Longitude'].values)), \n",
    "                   min_opacity=0.2,\n",
    "                   max_val=max_amount,\n",
    "                   radius=4, blur=2, \n",
    "                   max_zoom=1, \n",
    "                 ))\n",
    "maryland.add_child(heat_map)\n",
    "maryland.save('heatmap.html')"
   ]
  },
  {
   "cell_type": "code",
   "execution_count": 112,
   "metadata": {},
   "outputs": [],
   "source": [
    "#random marker test\n",
    "#folium.Marker(\n",
    "#    location=[df_focus.Latitude[0],df_focus.Longitude[0]],\n",
    "#    #popup='Mt. Hood Meadows',\n",
    "#    #icon=folium.Icon(icon='cloud')\n",
    "#).add_to(maryland)"
   ]
  },
  {
   "cell_type": "markdown",
   "metadata": {},
   "source": [
    "# WAY AHEAD\n",
    "### Process more layers? \n",
    "+ we have a heatmap layers showing the hot spots\n",
    "+ we could refine to more heat maps to specifically show speed traps (this map is just stops)\n",
    "+ we could plot all fatlities\n",
    "+ we could plot the injuries"
   ]
  },
  {
   "cell_type": "code",
   "execution_count": null,
   "metadata": {},
   "outputs": [],
   "source": []
  }
 ],
 "metadata": {
  "kernelspec": {
   "display_name": "Python 3",
   "language": "python",
   "name": "python3"
  },
  "language_info": {
   "codemirror_mode": {
    "name": "ipython",
    "version": 3
   },
   "file_extension": ".py",
   "mimetype": "text/x-python",
   "name": "python",
   "nbconvert_exporter": "python",
   "pygments_lexer": "ipython3",
   "version": "3.7.4"
  }
 },
 "nbformat": 4,
 "nbformat_minor": 2
}
